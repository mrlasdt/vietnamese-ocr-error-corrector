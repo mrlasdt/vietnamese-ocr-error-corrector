{
    "cells": [
        {
            "cell_type": "code",
            "execution_count": null,
            "metadata": {},
            "outputs": [],
            "source": [
                "# #get data information\n",
                "# import os\n",
                "# import glob\n",
                "# data_path = '/mnt/hdd2T/AICR/Datasets/'\n",
                "# def recursively_count_no_files(path):\n",
                "#     for sub_folder in os.listdir(path):\n",
                "#         sub_path = os.path.join(path, sub_folder)\n",
                "#         if os.path.isdir(sub_path):\n",
                "#             recursively_count_no_files(sub_path)\n",
                "#         else:\n",
                "#             limages_path = glob.glob(f'{path}/*.jpg')\n",
                "#             lgroundtruths_path = glob.glob(f'{path}/*.txt')\n",
                "#             print(path, len(limages_path), len(lgroundtruths_path), sep='\\t')\n",
                "#             return None\n",
                "# recursively_count_no_files(data_path)\n",
                "        \n"
            ]
        },
        {
            "cell_type": "code",
            "execution_count": 10,
            "metadata": {},
            "outputs": [
                {
                    "name": "stdout",
                    "output_type": "stream",
                    "text": [
                        "[' Amazon.com.', ' Hiện tượng này bắt đầu thay đổi vào năm 2012 với sự ra mắt của Nexus 7 giá rẻ và một cú hích của', ' Google dành cho các lập trình viên nhằm thúc đẩy họ viết các ứng dụng cho máy tính bảng tốt hơn.', ' Máy tính bảng Android được kỳ vọng sẽ vượt qua iPad trong vòng một vài năm.', ' Thị phần và tỷ lệ sử dụng', ' Công ty nghiên cứu thị trường Canalys đã ước tính trong quý 2 năm 2009 rằng Android có 2,8% thị', ' phần điện thoại thông minh được bán ra toàn cầu. Đến quý 4 năm 2010 con số này tăng lên 33% thị', ' phần, trở thành nền tảng điện thoại thông minh bán chạy hàng đầu. Đến quý 3 năm 2011 Gartner ước', ' tính rằng hơn một nửa (52,5%) thị trường điện thoại thông minh thuộc về Android. Đến quý 3 năm', ' 2012 Android đã có 75% thị phần điện thoại thông minh toàn cầu theo nghiên cứu của hãng IDC.', ' Vào tháng 7 năm 2011, Google nói rằng có 550.000 thiết bị Android mới được kích hoạt mỗi ngày đỉnh', ' điểm là 400.000 máy một ngày vào tháng 5, và có hơn 100 triệu thiết bị đã được kích hoạt với mức tăng', ' 4,4% mỗi tuần. Vào tháng 9 năm 2012, 500 triệu thiết bị đã được kích hoạt với 1,3 triệu lượt kích hoạt', ' mỗi ngày.', ' Thị phần của Android có khác nhau theo khu vực. Vào tháng 7 năm 2012, thị phần Android tại Mỹ là', ' 52%, nhưng lên tới 90% tại Trung Quốc.', ' Tỷ lệ sử dụng các phiên bản Android', ' Tỷ lệ sử dụng các phiên bản khác nhau tính đến tháng 4 năm 2014. Phần lớn các thiết bị Android cho', ' tới nay vẫn chay hệ điều hành phiên bản 4.1.x Jelly Bean được phát hành ngày 9 tháng 7 năm 2012 nhờ', ' tính ổn định và hỗ trợ tốt các máy có cấu hình thấp.', ' Tình trạng ăn cắp bản quyền ứng dụng', ' Đã có những lo ngại về việc các ứng dụng trả tiền của Android quá dễ bị ăn cắp. Trong một cuộc', ' phỏng vấn vào tháng 5 năm 2012 với Eurogamer, nhà phát triển Football Manager nói rằng tỷ lệ người', ' chơi ăn cắp SO với người chơi trả tiền là 9:1 với trò chơi Football Manager Handheld. Tuy nhiên, không', ' phải tất cả các lập trình viên đều cho rằng tình trạng ăn cắp là một vấn đề; ví dụ như vào tháng 7 năm', ' 2012 các lập trình viên của trò chơi Wind-up Knight nói rằng mức độ ăn cắp trò chơi của họ chỉ', ' khoảng 12%, và phần lớn sản phẩm ăn cắp đến từ Trung Quốc, nơi người ta không thể mua ứng dụng', ' từ Google Play.', ' Vào năm 2010, Google phát hành một công cụ để xác nhận việc mua bán để sử dụng trong các ứng', ' dụng, nhưng các lập trình viên than phiền rằng như vậy là chưa đủ và quá dễ để bẻ khóa. Google trả', ' lời rằng công cụ, đặc biệt là bản phát hành đầu tiên, chỉ có ý định làm nền tảng mẫu cho lập trình', ' viên điều chỉnh và xây dựng theo yêu cầu, chứ không phải một giải pháp bảo mật hoàn chỉnh. Vào', ' năm 2012 Google phát hành một tính năng trong Android 4.1 để mã hóa các ứng dụng trả tiền chỉ hoạt', ' động trên thiết bị đã mua ứng dụng đó, nhưng tính năng này đã bị hoãn do vấn đề vê kỹ thuật.', ' Bản quyền và bằng phát minh', ' Cả Android và nhà sản xuất điện thoại Android đều bị dính líu đến nhiều vụ kiện tụng về bằng phát', ' minh. Ngày 12 tháng năm 2010, Oracle kiện Google với cáo buộc vi phạm bản quyền và bằng phát', ' minh liên quan đến ngôn ngữ lập trình Java. Oracle ban đầu muốn được đền bù thiệt hại 6,1 tỷ đô la', ' Mỹ, nhưng bị tòa án liên bang Mỹ khước từ mức giá này và yêu cầu Oracle xem xét lại. Để đáp lại,', ' Google đã đưa ra nhiều lý lẽ để bảo vệ, tuyên bố ngược lại là Android không hề vi phạm bằng phát']\n"
                    ]
                }
            ],
            "source": [
                "file = 'ocr/result_moi4/Android_(operating_system)_vi_00009.txt'\n",
                "def correct_file(model, file):\n",
                "    with open(file, 'r') as f:\n",
                "        text = f.read().splitlines()\n",
                "    print(text)\n",
                "correct_file('', file)"
            ]
        },
        {
            "cell_type": "code",
            "execution_count": 7,
            "metadata": {},
            "outputs": [
                {
                    "data": {
                        "text/plain": [
                            "True"
                        ]
                    },
                    "execution_count": 7,
                    "metadata": {},
                    "output_type": "execute_result"
                }
            ],
            "source": [
                "import re\n",
                "bool(re.match(r'\\w[\\w ]|\\W+|\\W+', '*'))\n"
            ]
        },
        {
            "cell_type": "code",
            "execution_count": 2,
            "metadata": {},
            "outputs": [
                {
                    "data": {
                        "text/plain": [
                            "['Người tiết kiệm đồng ý thông báo cho tổ chức một thời gian quy định trước rút',\n",
                            " '.']"
                        ]
                    },
                    "execution_count": 2,
                    "metadata": {},
                    "output_type": "execute_result"
                }
            ],
            "source": [
                "import re\n",
                "def extract_phrase(paragraph):\n",
                "    # extract phrase\n",
                "    return re.findall(r'\\w[\\w ]*|\\s\\W+|\\W+', paragraph)\n",
                "extract_phrase('Người tiết kiệm đồng ý thông báo cho tổ chức một thời gian quy định trước rút.')"
            ]
        },
        {
            "cell_type": "code",
            "execution_count": 17,
            "metadata": {},
            "outputs": [
                {
                    "data": {
                        "text/plain": [
                            "(['Android',\n",
                            "  ', ',\n",
                            "  'vì ứng dụng không nhất',\n",
                            "  'phải đóng rồi mở lại',\n",
                            "  'từ đầu',\n",
                            "  ', ',\n",
                            "  'vừa đảm bảo các ứng',\n",
                            "  'dụng nên không'],\n",
                            " [False, False, True, True, True, False, True, True])"
                        ]
                    },
                    "execution_count": 17,
                    "metadata": {},
                    "output_type": "execute_result"
                }
            ],
            "source": [
                "para = 'Android, vì ứng dụng không nhất phải đóng rồi mở lại từ đầu, vừa đảm bảo các ứng dụng nên không'\n",
                "def _process_overlap(paragraph, NGRAM):\n",
                "    phrases = extract_phrase(paragraph)\n",
                "    inputs = []\n",
                "    masks = []\n",
                "    # group by n-grams\n",
                "    for phrase in phrases:\n",
                "        words = phrase.split()\n",
                "        if len(words) < 2 or not re.match(\"\\w[\\w ]+\", phrase):\n",
                "            inputs.append(phrase)\n",
                "            masks.append(False)\n",
                "        else:\n",
                "            for i in range(0, len(words), NGRAM):\n",
                "                if len(words) - i < NGRAM:\n",
                "                    inputs.append(' '.join(words[i:]))\n",
                "                    if len(words) - i < 2:  # skip single words leftover\n",
                "                        masks.append(False)\n",
                "                        continue\n",
                "                else:\n",
                "                    inputs.append(' '.join(words[i:i + NGRAM]))\n",
                "                masks.append(True)\n",
                "    return inputs, masks\n",
                "inputs, masks = _process_overlap(para, 5)\n",
                "inputs, masks"
            ]
        },
        {
            "cell_type": "code",
            "execution_count": 18,
            "metadata": {},
            "outputs": [
                {
                    "name": "stdout",
                    "output_type": "stream",
                    "text": [
                        "['Android', ', ', 'vì ứng dụng không nhất', 'phải đóng rồi mở lại', 'từ đầu', ', ', 'vừa đảm bảo các ứng', 'dụng nên không'] [False, False, True, True, True, False, True, False]\n",
                        "['dụng không nhất phải đóng', 'rồi mở lại từ đầu', 'bảo các ứng dụng nên', 'các ứng dụng nên không'] [False, False, True, True, False, False, True, True]\n"
                    ]
                }
            ],
            "source": [
                "masks_overlap = []\n",
                "inputs_overlap = []\n",
                "for i, mask in enumerate(masks[:-1]):\n",
                "    if mask and masks[i+1]:\n",
                "        masks_overlap.append(True)\n",
                "        inputs_overlap.append(' '.join(inputs[i].split()[2:] + inputs[i+1].split()[:2]))\n",
                "    else:\n",
                "        masks_overlap.append(False)\n",
                "n = len(inputs[-1].split())\n",
                "if n < 5:\n",
                "    inputs_overlap.append(' '.join(inputs[-2].split()[5-n+1:] + inputs[-1].split()))\n",
                "    masks_overlap.append(True)\n",
                "    masks[-1] = False\n",
                "print(inputs, masks)\n",
                "print(inputs_overlap, masks_overlap)\n"
            ]
        },
        {
            "cell_type": "code",
            "execution_count": 2,
            "metadata": {},
            "outputs": [],
            "source": [
                "import pandas as pd\n",
                "data_stat = pd.read_csv('data_stat.csv', sep='\\t', names=['path', 'nimgs', 'nlabels'])"
            ]
        },
        {
            "cell_type": "code",
            "execution_count": 3,
            "metadata": {},
            "outputs": [
                {
                    "data": {
                        "text/html": [
                            "<div>\n",
                            "<style scoped>\n",
                            "    .dataframe tbody tr th:only-of-type {\n",
                            "        vertical-align: middle;\n",
                            "    }\n",
                            "\n",
                            "    .dataframe tbody tr th {\n",
                            "        vertical-align: top;\n",
                            "    }\n",
                            "\n",
                            "    .dataframe thead th {\n",
                            "        text-align: right;\n",
                            "    }\n",
                            "</style>\n",
                            "<table border=\"1\" class=\"dataframe\">\n",
                            "  <thead>\n",
                            "    <tr style=\"text-align: right;\">\n",
                            "      <th></th>\n",
                            "      <th>path</th>\n",
                            "      <th>nimgs</th>\n",
                            "      <th>nlabels</th>\n",
                            "      <th>Subdir1</th>\n",
                            "      <th>Subdir2</th>\n",
                            "      <th>Subdir3</th>\n",
                            "    </tr>\n",
                            "  </thead>\n",
                            "  <tbody>\n",
                            "    <tr>\n",
                            "      <th>4</th>\n",
                            "      <td>/mnt/hdd2T/AICR/Datasets/KIE/SDV_invoices/line...</td>\n",
                            "      <td>100</td>\n",
                            "      <td>100</td>\n",
                            "      <td>KIE</td>\n",
                            "      <td>KIE/SDV_invoices</td>\n",
                            "      <td>KIE/SDV_invoices/lines_kie</td>\n",
                            "    </tr>\n",
                            "    <tr>\n",
                            "      <th>5</th>\n",
                            "      <td>/mnt/hdd2T/AICR/Datasets/KIE/SDV_invoices/lines</td>\n",
                            "      <td>433</td>\n",
                            "      <td>433</td>\n",
                            "      <td>KIE</td>\n",
                            "      <td>KIE/SDV_invoices</td>\n",
                            "      <td>KIE/SDV_invoices/lines</td>\n",
                            "    </tr>\n",
                            "    <tr>\n",
                            "      <th>8</th>\n",
                            "      <td>/mnt/hdd2T/AICR/Datasets/KIE/Invoice_SDV_outpu...</td>\n",
                            "      <td>1</td>\n",
                            "      <td>1</td>\n",
                            "      <td>KIE</td>\n",
                            "      <td>KIE/Invoice_SDV_output</td>\n",
                            "      <td>KIE/Invoice_SDV_output/words_cropped_review</td>\n",
                            "    </tr>\n",
                            "    <tr>\n",
                            "      <th>9</th>\n",
                            "      <td>/mnt/hdd2T/AICR/Datasets/KIE/Invoice_SDV_outpu...</td>\n",
                            "      <td>2</td>\n",
                            "      <td>2</td>\n",
                            "      <td>KIE</td>\n",
                            "      <td>KIE/Invoice_SDV_output</td>\n",
                            "      <td>KIE/Invoice_SDV_output/words_cropped_review</td>\n",
                            "    </tr>\n",
                            "    <tr>\n",
                            "      <th>10</th>\n",
                            "      <td>/mnt/hdd2T/AICR/Datasets/KIE/Invoice_SDV_outpu...</td>\n",
                            "      <td>2</td>\n",
                            "      <td>2</td>\n",
                            "      <td>KIE</td>\n",
                            "      <td>KIE/Invoice_SDV_output</td>\n",
                            "      <td>KIE/Invoice_SDV_output/words_cropped_review</td>\n",
                            "    </tr>\n",
                            "    <tr>\n",
                            "      <th>...</th>\n",
                            "      <td>...</td>\n",
                            "      <td>...</td>\n",
                            "      <td>...</td>\n",
                            "      <td>...</td>\n",
                            "      <td>...</td>\n",
                            "      <td>...</td>\n",
                            "    </tr>\n",
                            "    <tr>\n",
                            "      <th>15164</th>\n",
                            "      <td>/mnt/hdd2T/AICR/Datasets/Detector/Documents/Pr...</td>\n",
                            "      <td>76</td>\n",
                            "      <td>76</td>\n",
                            "      <td>Detector</td>\n",
                            "      <td>Detector/Documents</td>\n",
                            "      <td>Detector/Documents/Processing</td>\n",
                            "    </tr>\n",
                            "    <tr>\n",
                            "      <th>15165</th>\n",
                            "      <td>/mnt/hdd2T/AICR/Datasets/Detector/Documents/Pr...</td>\n",
                            "      <td>76</td>\n",
                            "      <td>76</td>\n",
                            "      <td>Detector</td>\n",
                            "      <td>Detector/Documents</td>\n",
                            "      <td>Detector/Documents/Processing</td>\n",
                            "    </tr>\n",
                            "    <tr>\n",
                            "      <th>15166</th>\n",
                            "      <td>/mnt/hdd2T/AICR/Datasets/Detector/Documents/Pr...</td>\n",
                            "      <td>20</td>\n",
                            "      <td>20</td>\n",
                            "      <td>Detector</td>\n",
                            "      <td>Detector/Documents</td>\n",
                            "      <td>Detector/Documents/Processing</td>\n",
                            "    </tr>\n",
                            "    <tr>\n",
                            "      <th>15167</th>\n",
                            "      <td>/mnt/hdd2T/AICR/Datasets/Detector/Documents/Pr...</td>\n",
                            "      <td>82</td>\n",
                            "      <td>82</td>\n",
                            "      <td>Detector</td>\n",
                            "      <td>Detector/Documents</td>\n",
                            "      <td>Detector/Documents/Processing</td>\n",
                            "    </tr>\n",
                            "    <tr>\n",
                            "      <th>15168</th>\n",
                            "      <td>/mnt/hdd2T/AICR/Datasets/Invoice_tmp</td>\n",
                            "      <td>386</td>\n",
                            "      <td>386</td>\n",
                            "      <td>Invoice_tmp</td>\n",
                            "      <td>Invoice_tmp</td>\n",
                            "      <td>Invoice_tmp</td>\n",
                            "    </tr>\n",
                            "  </tbody>\n",
                            "</table>\n",
                            "<p>14096 rows × 6 columns</p>\n",
                            "</div>"
                        ],
                        "text/plain": [
                            "                                                    path  nimgs  nlabels  \\\n",
                            "4      /mnt/hdd2T/AICR/Datasets/KIE/SDV_invoices/line...    100      100   \n",
                            "5        /mnt/hdd2T/AICR/Datasets/KIE/SDV_invoices/lines    433      433   \n",
                            "8      /mnt/hdd2T/AICR/Datasets/KIE/Invoice_SDV_outpu...      1        1   \n",
                            "9      /mnt/hdd2T/AICR/Datasets/KIE/Invoice_SDV_outpu...      2        2   \n",
                            "10     /mnt/hdd2T/AICR/Datasets/KIE/Invoice_SDV_outpu...      2        2   \n",
                            "...                                                  ...    ...      ...   \n",
                            "15164  /mnt/hdd2T/AICR/Datasets/Detector/Documents/Pr...     76       76   \n",
                            "15165  /mnt/hdd2T/AICR/Datasets/Detector/Documents/Pr...     76       76   \n",
                            "15166  /mnt/hdd2T/AICR/Datasets/Detector/Documents/Pr...     20       20   \n",
                            "15167  /mnt/hdd2T/AICR/Datasets/Detector/Documents/Pr...     82       82   \n",
                            "15168               /mnt/hdd2T/AICR/Datasets/Invoice_tmp    386      386   \n",
                            "\n",
                            "           Subdir1                 Subdir2  \\\n",
                            "4              KIE        KIE/SDV_invoices   \n",
                            "5              KIE        KIE/SDV_invoices   \n",
                            "8              KIE  KIE/Invoice_SDV_output   \n",
                            "9              KIE  KIE/Invoice_SDV_output   \n",
                            "10             KIE  KIE/Invoice_SDV_output   \n",
                            "...            ...                     ...   \n",
                            "15164     Detector      Detector/Documents   \n",
                            "15165     Detector      Detector/Documents   \n",
                            "15166     Detector      Detector/Documents   \n",
                            "15167     Detector      Detector/Documents   \n",
                            "15168  Invoice_tmp             Invoice_tmp   \n",
                            "\n",
                            "                                           Subdir3  \n",
                            "4                       KIE/SDV_invoices/lines_kie  \n",
                            "5                           KIE/SDV_invoices/lines  \n",
                            "8      KIE/Invoice_SDV_output/words_cropped_review  \n",
                            "9      KIE/Invoice_SDV_output/words_cropped_review  \n",
                            "10     KIE/Invoice_SDV_output/words_cropped_review  \n",
                            "...                                            ...  \n",
                            "15164                Detector/Documents/Processing  \n",
                            "15165                Detector/Documents/Processing  \n",
                            "15166                Detector/Documents/Processing  \n",
                            "15167                Detector/Documents/Processing  \n",
                            "15168                                  Invoice_tmp  \n",
                            "\n",
                            "[14096 rows x 6 columns]"
                        ]
                    },
                    "execution_count": 3,
                    "metadata": {},
                    "output_type": "execute_result"
                }
            ],
            "source": [
                "data_stat = data_stat[(data_stat.nimgs==data_stat.nlabels)&(data_stat.nimgs!=0) ]\n",
                "data_stat.loc[:, 'Subdir1'] = data_stat.path.str.split('/').str[5]\n",
                "data_stat.loc[:, 'Subdir2'] = data_stat.path.str.split('/').str[5:7].str.join('/')\n",
                "data_stat.loc[:, 'Subdir3'] = data_stat.path.str.split('/').str[5:8].str.join('/')\n",
                "data_stat"
            ]
        },
        {
            "cell_type": "code",
            "execution_count": 4,
            "metadata": {},
            "outputs": [
                {
                    "data": {
                        "text/html": [
                            "<div>\n",
                            "<style scoped>\n",
                            "    .dataframe tbody tr th:only-of-type {\n",
                            "        vertical-align: middle;\n",
                            "    }\n",
                            "\n",
                            "    .dataframe tbody tr th {\n",
                            "        vertical-align: top;\n",
                            "    }\n",
                            "\n",
                            "    .dataframe thead th {\n",
                            "        text-align: right;\n",
                            "    }\n",
                            "</style>\n",
                            "<table border=\"1\" class=\"dataframe\">\n",
                            "  <thead>\n",
                            "    <tr style=\"text-align: right;\">\n",
                            "      <th></th>\n",
                            "      <th>nimgs</th>\n",
                            "      <th>nlabels</th>\n",
                            "    </tr>\n",
                            "    <tr>\n",
                            "      <th>Subdir2</th>\n",
                            "      <th></th>\n",
                            "      <th></th>\n",
                            "    </tr>\n",
                            "  </thead>\n",
                            "  <tbody>\n",
                            "    <tr>\n",
                            "      <th>Backup/1.Hand_writing</th>\n",
                            "      <td>10770</td>\n",
                            "      <td>10770</td>\n",
                            "    </tr>\n",
                            "    <tr>\n",
                            "      <th>Backup/idcard_dl_fmlb</th>\n",
                            "      <td>502</td>\n",
                            "      <td>502</td>\n",
                            "    </tr>\n",
                            "    <tr>\n",
                            "      <th>Detector/Document_Stampless</th>\n",
                            "      <td>439</td>\n",
                            "      <td>439</td>\n",
                            "    </tr>\n",
                            "    <tr>\n",
                            "      <th>Detector/Documents</th>\n",
                            "      <td>3743</td>\n",
                            "      <td>3743</td>\n",
                            "    </tr>\n",
                            "    <tr>\n",
                            "      <th>Invoice_tmp</th>\n",
                            "      <td>386</td>\n",
                            "      <td>386</td>\n",
                            "    </tr>\n",
                            "    <tr>\n",
                            "      <th>KIE/Invoice_SDV_output</th>\n",
                            "      <td>117628</td>\n",
                            "      <td>117628</td>\n",
                            "    </tr>\n",
                            "    <tr>\n",
                            "      <th>KIE/SDV_invoices</th>\n",
                            "      <td>533</td>\n",
                            "      <td>533</td>\n",
                            "    </tr>\n",
                            "    <tr>\n",
                            "      <th>Recognition/Real</th>\n",
                            "      <td>725507</td>\n",
                            "      <td>725507</td>\n",
                            "    </tr>\n",
                            "    <tr>\n",
                            "      <th>wiki/ground_truth</th>\n",
                            "      <td>214</td>\n",
                            "      <td>214</td>\n",
                            "    </tr>\n",
                            "  </tbody>\n",
                            "</table>\n",
                            "</div>"
                        ],
                        "text/plain": [
                            "                              nimgs  nlabels\n",
                            "Subdir2                                     \n",
                            "Backup/1.Hand_writing         10770    10770\n",
                            "Backup/idcard_dl_fmlb           502      502\n",
                            "Detector/Document_Stampless     439      439\n",
                            "Detector/Documents             3743     3743\n",
                            "Invoice_tmp                     386      386\n",
                            "KIE/Invoice_SDV_output       117628   117628\n",
                            "KIE/SDV_invoices                533      533\n",
                            "Recognition/Real             725507   725507\n",
                            "wiki/ground_truth               214      214"
                        ]
                    },
                    "execution_count": 4,
                    "metadata": {},
                    "output_type": "execute_result"
                }
            ],
            "source": [
                "data_stat.groupby('Subdir2').sum()"
            ]
        },
        {
            "cell_type": "code",
            "execution_count": 9,
            "metadata": {},
            "outputs": [],
            "source": [
                "# file_name = 'Android_(operating_system)_vi_00001.txt'\n",
                "predict_path = 'ocr/result_moi6/'\n",
                "groundtruth_path  = '/mnt/hdd2T/AICR/Datasets/wiki/ground_truth'\n",
                "import os\n",
                "import glob\n",
                "dres = []\n",
                "for file_ in glob.glob(f'{predict_path}/*.txt'):\n",
                "    file_name = file_.split('/')[-1]\n",
                "    # with open(os.path.join(predict_path, file_name), 'r') as f:\n",
                "    with open(file_, 'r') as f:\n",
                "        predict = f.readlines()\n",
                "        predict = ''.join(predict)\n",
                "        predict = predict.replace(' ', '')\n",
                "        predict = predict.replace('\\n', '')\n",
                "\n",
                "    # print(predict)\n",
                "    with open(os.path.join(groundtruth_path, file_name), 'r') as f:\n",
                "        gt = f.readlines()\n",
                "        gt = ''.join(gt)\n",
                "        gt = gt.replace('\\n', '')\n",
                "\n",
                "    res_ = inline_diff(predict, gt)\n",
                "    dres.append(res_)"
            ]
        },
        {
            "cell_type": "code",
            "execution_count": 5,
            "metadata": {},
            "outputs": [
                {
                    "data": {
                        "text/html": [
                            "<div>\n",
                            "<style scoped>\n",
                            "    .dataframe tbody tr th:only-of-type {\n",
                            "        vertical-align: middle;\n",
                            "    }\n",
                            "\n",
                            "    .dataframe tbody tr th {\n",
                            "        vertical-align: top;\n",
                            "    }\n",
                            "\n",
                            "    .dataframe thead th {\n",
                            "        text-align: right;\n",
                            "    }\n",
                            "</style>\n",
                            "<table border=\"1\" class=\"dataframe\">\n",
                            "  <thead>\n",
                            "    <tr style=\"text-align: right;\">\n",
                            "      <th></th>\n",
                            "      <th>file_name</th>\n",
                            "      <th>UL_single</th>\n",
                            "      <th>UL_multiple</th>\n",
                            "      <th>nlosts</th>\n",
                            "      <th>nlosts_single</th>\n",
                            "      <th>nlosts_multiple</th>\n",
                            "      <th>nlosts_chars</th>\n",
                            "      <th>nlosts_specialchars</th>\n",
                            "      <th>nlosts_space</th>\n",
                            "      <th>nadds</th>\n",
                            "      <th>...</th>\n",
                            "      <th>nadds_space</th>\n",
                            "      <th>nwrongs</th>\n",
                            "      <th>nwrongs_single</th>\n",
                            "      <th>nwrongs_multiple</th>\n",
                            "      <th>nwrong_accent</th>\n",
                            "      <th>nlost_accent</th>\n",
                            "      <th>nwrong_vowels</th>\n",
                            "      <th>nwrong_consonants</th>\n",
                            "      <th>nwrong_specialchars</th>\n",
                            "      <th>nlong_sequences</th>\n",
                            "    </tr>\n",
                            "  </thead>\n",
                            "  <tbody>\n",
                            "    <tr>\n",
                            "      <th>0</th>\n",
                            "      <td>wiki_diff/result/Barack_Obama_vi_00011.txt</td>\n",
                            "      <td>6</td>\n",
                            "      <td>0</td>\n",
                            "      <td>2</td>\n",
                            "      <td>2</td>\n",
                            "      <td>0</td>\n",
                            "      <td>0</td>\n",
                            "      <td>2</td>\n",
                            "      <td>0</td>\n",
                            "      <td>1</td>\n",
                            "      <td>...</td>\n",
                            "      <td>0</td>\n",
                            "      <td>9</td>\n",
                            "      <td>3</td>\n",
                            "      <td>0</td>\n",
                            "      <td>2</td>\n",
                            "      <td>0</td>\n",
                            "      <td>0</td>\n",
                            "      <td>0</td>\n",
                            "      <td>1</td>\n",
                            "      <td>0</td>\n",
                            "    </tr>\n",
                            "    <tr>\n",
                            "      <th>1</th>\n",
                            "      <td>wiki_diff/result/Bank_vi_00001.txt</td>\n",
                            "      <td>2</td>\n",
                            "      <td>1</td>\n",
                            "      <td>2</td>\n",
                            "      <td>2</td>\n",
                            "      <td>0</td>\n",
                            "      <td>0</td>\n",
                            "      <td>2</td>\n",
                            "      <td>0</td>\n",
                            "      <td>1</td>\n",
                            "      <td>...</td>\n",
                            "      <td>0</td>\n",
                            "      <td>6</td>\n",
                            "      <td>2</td>\n",
                            "      <td>1</td>\n",
                            "      <td>1</td>\n",
                            "      <td>0</td>\n",
                            "      <td>0</td>\n",
                            "      <td>0</td>\n",
                            "      <td>1</td>\n",
                            "      <td>0</td>\n",
                            "    </tr>\n",
                            "    <tr>\n",
                            "      <th>2</th>\n",
                            "      <td>wiki_diff/result/Google_vi_00005.txt</td>\n",
                            "      <td>1</td>\n",
                            "      <td>3</td>\n",
                            "      <td>2</td>\n",
                            "      <td>1</td>\n",
                            "      <td>1</td>\n",
                            "      <td>0</td>\n",
                            "      <td>1</td>\n",
                            "      <td>0</td>\n",
                            "      <td>1</td>\n",
                            "      <td>...</td>\n",
                            "      <td>0</td>\n",
                            "      <td>5</td>\n",
                            "      <td>1</td>\n",
                            "      <td>0</td>\n",
                            "      <td>1</td>\n",
                            "      <td>0</td>\n",
                            "      <td>0</td>\n",
                            "      <td>0</td>\n",
                            "      <td>0</td>\n",
                            "      <td>0</td>\n",
                            "    </tr>\n",
                            "    <tr>\n",
                            "      <th>3</th>\n",
                            "      <td>wiki_diff/result/Android_(operating_system)_vi...</td>\n",
                            "      <td>1</td>\n",
                            "      <td>0</td>\n",
                            "      <td>3</td>\n",
                            "      <td>2</td>\n",
                            "      <td>1</td>\n",
                            "      <td>0</td>\n",
                            "      <td>2</td>\n",
                            "      <td>0</td>\n",
                            "      <td>1</td>\n",
                            "      <td>...</td>\n",
                            "      <td>0</td>\n",
                            "      <td>8</td>\n",
                            "      <td>7</td>\n",
                            "      <td>0</td>\n",
                            "      <td>3</td>\n",
                            "      <td>0</td>\n",
                            "      <td>0</td>\n",
                            "      <td>0</td>\n",
                            "      <td>4</td>\n",
                            "      <td>0</td>\n",
                            "    </tr>\n",
                            "    <tr>\n",
                            "      <th>4</th>\n",
                            "      <td>wiki_diff/result/Google_vi_00003.txt</td>\n",
                            "      <td>1</td>\n",
                            "      <td>2</td>\n",
                            "      <td>3</td>\n",
                            "      <td>2</td>\n",
                            "      <td>1</td>\n",
                            "      <td>1</td>\n",
                            "      <td>1</td>\n",
                            "      <td>0</td>\n",
                            "      <td>4</td>\n",
                            "      <td>...</td>\n",
                            "      <td>0</td>\n",
                            "      <td>8</td>\n",
                            "      <td>4</td>\n",
                            "      <td>1</td>\n",
                            "      <td>1</td>\n",
                            "      <td>0</td>\n",
                            "      <td>1</td>\n",
                            "      <td>0</td>\n",
                            "      <td>2</td>\n",
                            "      <td>0</td>\n",
                            "    </tr>\n",
                            "    <tr>\n",
                            "      <th>...</th>\n",
                            "      <td>...</td>\n",
                            "      <td>...</td>\n",
                            "      <td>...</td>\n",
                            "      <td>...</td>\n",
                            "      <td>...</td>\n",
                            "      <td>...</td>\n",
                            "      <td>...</td>\n",
                            "      <td>...</td>\n",
                            "      <td>...</td>\n",
                            "      <td>...</td>\n",
                            "      <td>...</td>\n",
                            "      <td>...</td>\n",
                            "      <td>...</td>\n",
                            "      <td>...</td>\n",
                            "      <td>...</td>\n",
                            "      <td>...</td>\n",
                            "      <td>...</td>\n",
                            "      <td>...</td>\n",
                            "      <td>...</td>\n",
                            "      <td>...</td>\n",
                            "      <td>...</td>\n",
                            "    </tr>\n",
                            "    <tr>\n",
                            "      <th>209</th>\n",
                            "      <td>wiki_diff/result/Linux_vi_00005.txt</td>\n",
                            "      <td>1</td>\n",
                            "      <td>1</td>\n",
                            "      <td>1</td>\n",
                            "      <td>1</td>\n",
                            "      <td>0</td>\n",
                            "      <td>0</td>\n",
                            "      <td>1</td>\n",
                            "      <td>0</td>\n",
                            "      <td>1</td>\n",
                            "      <td>...</td>\n",
                            "      <td>0</td>\n",
                            "      <td>6</td>\n",
                            "      <td>4</td>\n",
                            "      <td>0</td>\n",
                            "      <td>1</td>\n",
                            "      <td>0</td>\n",
                            "      <td>0</td>\n",
                            "      <td>0</td>\n",
                            "      <td>3</td>\n",
                            "      <td>0</td>\n",
                            "    </tr>\n",
                            "    <tr>\n",
                            "      <th>210</th>\n",
                            "      <td>wiki_diff/result/TV_vi_00006.txt</td>\n",
                            "      <td>2</td>\n",
                            "      <td>6</td>\n",
                            "      <td>3</td>\n",
                            "      <td>3</td>\n",
                            "      <td>0</td>\n",
                            "      <td>0</td>\n",
                            "      <td>3</td>\n",
                            "      <td>0</td>\n",
                            "      <td>2</td>\n",
                            "      <td>...</td>\n",
                            "      <td>0</td>\n",
                            "      <td>16</td>\n",
                            "      <td>8</td>\n",
                            "      <td>0</td>\n",
                            "      <td>6</td>\n",
                            "      <td>0</td>\n",
                            "      <td>0</td>\n",
                            "      <td>0</td>\n",
                            "      <td>2</td>\n",
                            "      <td>0</td>\n",
                            "    </tr>\n",
                            "    <tr>\n",
                            "      <th>211</th>\n",
                            "      <td>wiki_diff/result/Computer_vi_00009.txt</td>\n",
                            "      <td>1</td>\n",
                            "      <td>2</td>\n",
                            "      <td>2</td>\n",
                            "      <td>2</td>\n",
                            "      <td>0</td>\n",
                            "      <td>0</td>\n",
                            "      <td>2</td>\n",
                            "      <td>0</td>\n",
                            "      <td>7</td>\n",
                            "      <td>...</td>\n",
                            "      <td>0</td>\n",
                            "      <td>6</td>\n",
                            "      <td>1</td>\n",
                            "      <td>2</td>\n",
                            "      <td>1</td>\n",
                            "      <td>0</td>\n",
                            "      <td>0</td>\n",
                            "      <td>0</td>\n",
                            "      <td>0</td>\n",
                            "      <td>0</td>\n",
                            "    </tr>\n",
                            "    <tr>\n",
                            "      <th>212</th>\n",
                            "      <td>wiki_diff/result/Tax_vi_00002.txt</td>\n",
                            "      <td>0</td>\n",
                            "      <td>0</td>\n",
                            "      <td>5</td>\n",
                            "      <td>4</td>\n",
                            "      <td>1</td>\n",
                            "      <td>0</td>\n",
                            "      <td>4</td>\n",
                            "      <td>0</td>\n",
                            "      <td>10</td>\n",
                            "      <td>...</td>\n",
                            "      <td>0</td>\n",
                            "      <td>5</td>\n",
                            "      <td>5</td>\n",
                            "      <td>0</td>\n",
                            "      <td>0</td>\n",
                            "      <td>0</td>\n",
                            "      <td>0</td>\n",
                            "      <td>0</td>\n",
                            "      <td>5</td>\n",
                            "      <td>0</td>\n",
                            "    </tr>\n",
                            "    <tr>\n",
                            "      <th>213</th>\n",
                            "      <td>wiki_diff/result/Apple_Inc._vi_00007.txt</td>\n",
                            "      <td>2</td>\n",
                            "      <td>0</td>\n",
                            "      <td>2</td>\n",
                            "      <td>2</td>\n",
                            "      <td>0</td>\n",
                            "      <td>0</td>\n",
                            "      <td>2</td>\n",
                            "      <td>0</td>\n",
                            "      <td>1</td>\n",
                            "      <td>...</td>\n",
                            "      <td>0</td>\n",
                            "      <td>6</td>\n",
                            "      <td>3</td>\n",
                            "      <td>1</td>\n",
                            "      <td>0</td>\n",
                            "      <td>0</td>\n",
                            "      <td>0</td>\n",
                            "      <td>0</td>\n",
                            "      <td>3</td>\n",
                            "      <td>0</td>\n",
                            "    </tr>\n",
                            "  </tbody>\n",
                            "</table>\n",
                            "<p>214 rows × 24 columns</p>\n",
                            "</div>"
                        ],
                        "text/plain": [
                            "                                             file_name  UL_single  \\\n",
                            "0           wiki_diff/result/Barack_Obama_vi_00011.txt          6   \n",
                            "1                   wiki_diff/result/Bank_vi_00001.txt          2   \n",
                            "2                 wiki_diff/result/Google_vi_00005.txt          1   \n",
                            "3    wiki_diff/result/Android_(operating_system)_vi...          1   \n",
                            "4                 wiki_diff/result/Google_vi_00003.txt          1   \n",
                            "..                                                 ...        ...   \n",
                            "209                wiki_diff/result/Linux_vi_00005.txt          1   \n",
                            "210                   wiki_diff/result/TV_vi_00006.txt          2   \n",
                            "211             wiki_diff/result/Computer_vi_00009.txt          1   \n",
                            "212                  wiki_diff/result/Tax_vi_00002.txt          0   \n",
                            "213           wiki_diff/result/Apple_Inc._vi_00007.txt          2   \n",
                            "\n",
                            "     UL_multiple  nlosts  nlosts_single  nlosts_multiple  nlosts_chars  \\\n",
                            "0              0       2              2                0             0   \n",
                            "1              1       2              2                0             0   \n",
                            "2              3       2              1                1             0   \n",
                            "3              0       3              2                1             0   \n",
                            "4              2       3              2                1             1   \n",
                            "..           ...     ...            ...              ...           ...   \n",
                            "209            1       1              1                0             0   \n",
                            "210            6       3              3                0             0   \n",
                            "211            2       2              2                0             0   \n",
                            "212            0       5              4                1             0   \n",
                            "213            0       2              2                0             0   \n",
                            "\n",
                            "     nlosts_specialchars  nlosts_space  nadds  ...  nadds_space  nwrongs  \\\n",
                            "0                      2             0      1  ...            0        9   \n",
                            "1                      2             0      1  ...            0        6   \n",
                            "2                      1             0      1  ...            0        5   \n",
                            "3                      2             0      1  ...            0        8   \n",
                            "4                      1             0      4  ...            0        8   \n",
                            "..                   ...           ...    ...  ...          ...      ...   \n",
                            "209                    1             0      1  ...            0        6   \n",
                            "210                    3             0      2  ...            0       16   \n",
                            "211                    2             0      7  ...            0        6   \n",
                            "212                    4             0     10  ...            0        5   \n",
                            "213                    2             0      1  ...            0        6   \n",
                            "\n",
                            "     nwrongs_single  nwrongs_multiple  nwrong_accent  nlost_accent  \\\n",
                            "0                 3                 0              2             0   \n",
                            "1                 2                 1              1             0   \n",
                            "2                 1                 0              1             0   \n",
                            "3                 7                 0              3             0   \n",
                            "4                 4                 1              1             0   \n",
                            "..              ...               ...            ...           ...   \n",
                            "209               4                 0              1             0   \n",
                            "210               8                 0              6             0   \n",
                            "211               1                 2              1             0   \n",
                            "212               5                 0              0             0   \n",
                            "213               3                 1              0             0   \n",
                            "\n",
                            "     nwrong_vowels  nwrong_consonants  nwrong_specialchars  nlong_sequences  \n",
                            "0                0                  0                    1                0  \n",
                            "1                0                  0                    1                0  \n",
                            "2                0                  0                    0                0  \n",
                            "3                0                  0                    4                0  \n",
                            "4                1                  0                    2                0  \n",
                            "..             ...                ...                  ...              ...  \n",
                            "209              0                  0                    3                0  \n",
                            "210              0                  0                    2                0  \n",
                            "211              0                  0                    0                0  \n",
                            "212              0                  0                    5                0  \n",
                            "213              0                  0                    3                0  \n",
                            "\n",
                            "[214 rows x 24 columns]"
                        ]
                    },
                    "execution_count": 5,
                    "metadata": {},
                    "output_type": "execute_result"
                }
            ],
            "source": [
                "import pandas as pd\n",
                "import matplotlib.pyplot as plt\n",
                "import matplotlib\n",
                "import seaborn as sns\n",
                "df = pd.read_csv('wiki_diff/wiki_diff.csv', sep='\\t', index_col=0)\n",
                "df"
            ]
        },
        {
            "cell_type": "code",
            "execution_count": 6,
            "metadata": {},
            "outputs": [
                {
                    "data": {
                        "text/plain": [
                            "UL_single               375\n",
                            "UL_multiple             267\n",
                            "nlosts                  533\n",
                            "nlosts_single           444\n",
                            "nlosts_multiple          89\n",
                            "nlosts_chars             25\n",
                            "nlosts_specialchars     419\n",
                            "nlosts_space              0\n",
                            "nadds                   850\n",
                            "nadds_single            807\n",
                            "nadds_multiple           43\n",
                            "nadds_chars              13\n",
                            "nadds_specialchars      794\n",
                            "nadds_space               0\n",
                            "nwrongs                1776\n",
                            "nwrongs_single          907\n",
                            "nwrongs_multiple        227\n",
                            "nwrong_accent           275\n",
                            "nlost_accent              1\n",
                            "nwrong_vowels             8\n",
                            "nwrong_consonants        22\n",
                            "nwrong_specialchars     601\n",
                            "nlong_sequences          95\n",
                            "dtype: int64"
                        ]
                    },
                    "execution_count": 6,
                    "metadata": {},
                    "output_type": "execute_result"
                }
            ],
            "source": [
                "err = df[df.describe().columns].sum()\n",
                "err"
            ]
        },
        {
            "cell_type": "code",
            "execution_count": 7,
            "metadata": {},
            "outputs": [
                {
                    "data": {
                        "text/plain": [
                            "3159"
                        ]
                    },
                    "execution_count": 7,
                    "metadata": {},
                    "output_type": "execute_result"
                },
                {
                    "data": {
                        "image/png": "[encoded data removed]",
                        "text/plain": [
                            "<Figure size 432x288 with 1 Axes>"
                        ]
                    },
                    "metadata": {
                        "needs_background": "light"
                    },
                    "output_type": "display_data"
                }
            ],
            "source": [
                "total_err = err[['nlosts', 'nadds', 'nwrongs']]\n",
                "total_err.sort_values().plot.barh()\n",
                "total_err.sum()"
            ]
        },
        {
            "cell_type": "code",
            "execution_count": 8,
            "metadata": {},
            "outputs": [
                {
                    "data": {
                        "text/plain": [
                            "<AxesSubplot:>"
                        ]
                    },
                    "execution_count": 8,
                    "metadata": {},
                    "output_type": "execute_result"
                },
                {
                    "data": {
                        "image/png": "[encoded data removed]",
                        "text/plain": [
                            "<Figure size 432x288 with 1 Axes>"
                        ]
                    },
                    "metadata": {
                        "needs_background": "light"
                    },
                    "output_type": "display_data"
                }
            ],
            "source": [
                "err_UL = err[['UL_single', 'UL_multiple']]\n",
                "err_UL.sort_values().plot.barh()"
            ]
        },
        {
            "cell_type": "code",
            "execution_count": 9,
            "metadata": {},
            "outputs": [
                {
                    "data": {
                        "text/plain": [
                            "<AxesSubplot:>"
                        ]
                    },
                    "execution_count": 9,
                    "metadata": {},
                    "output_type": "execute_result"
                },
                {
                    "data": {
                        "image/png": "[encoded data removed]",
                        "text/plain": [
                            "<Figure size 432x288 with 1 Axes>"
                        ]
                    },
                    "metadata": {
                        "needs_background": "light"
                    },
                    "output_type": "display_data"
                }
            ],
            "source": [
                "err_wrong = err[['nwrongs' ,'nwrongs_single', 'nwrongs_multiple', 'nwrong_accent', 'nlost_accent', 'nwrong_vowels', 'nwrong_consonants', 'nwrong_specialchars']]\n",
                "err_wrong.sort_values().plot.barh()"
            ]
        },
        {
            "cell_type": "code",
            "execution_count": 10,
            "metadata": {},
            "outputs": [
                {
                    "data": {
                        "text/plain": [
                            "<AxesSubplot:>"
                        ]
                    },
                    "execution_count": 10,
                    "metadata": {},
                    "output_type": "execute_result"
                },
                {
                    "data": {
                        "image/png": "[encoded data removed]",
                        "text/plain": [
                            "<Figure size 432x288 with 1 Axes>"
                        ]
                    },
                    "metadata": {
                        "needs_background": "light"
                    },
                    "output_type": "display_data"
                }
            ],
            "source": [
                "err_wrong = err[['nlosts', 'nlosts_single', 'nlosts_multiple', 'nlosts_chars', 'nlosts_specialchars']]#, 'nlosts_space']]\n",
                "err_wrong.sort_values().plot.barh()"
            ]
        },
        {
            "cell_type": "code",
            "execution_count": 11,
            "metadata": {},
            "outputs": [
                {
                    "data": {
                        "text/plain": [
                            "<AxesSubplot:>"
                        ]
                    },
                    "execution_count": 11,
                    "metadata": {},
                    "output_type": "execute_result"
                },
                {
                    "data": {
                        "image/png": "[encoded data removed]",
                        "text/plain": [
                            "<Figure size 432x288 with 1 Axes>"
                        ]
                    },
                    "metadata": {
                        "needs_background": "light"
                    },
                    "output_type": "display_data"
                }
            ],
            "source": [
                "err_wrong = err[['nadds', 'nadds_single', 'nadds_multiple', 'nadds_chars', 'nadds_specialchars']]#, 'nadds_space']]\n",
                "err_wrong.sort_values().plot.barh()"
            ]
        },
        {
            "cell_type": "code",
            "execution_count": 12,
            "metadata": {},
            "outputs": [
                {
                    "data": {
                        "text/plain": [
                            ".     158.0\n",
                            "\"     108.0\n",
                            "-      46.0\n",
                            "\\n     32.0\n",
                            "=      14.0\n",
                            ",      13.0\n",
                            "—       8.0\n",
                            "‒       8.0\n",
                            "'       7.0\n",
                            "1       5.0\n",
                            "_       3.0\n",
                            "4       2.0\n",
                            "Ả       2.0\n",
                            "°       2.0\n",
                            "5       1.0\n",
                            "“       1.0\n",
                            "@       1.0\n",
                            ")       1.0\n",
                            "ệ       1.0\n",
                            "0       1.0\n",
                            "ó       1.0\n",
                            "à       1.0\n",
                            "/       1.0\n",
                            "2       1.0\n",
                            "|       1.0\n",
                            "Name: lost, dtype: float64"
                        ]
                    },
                    "execution_count": 12,
                    "metadata": {},
                    "output_type": "execute_result"
                }
            ],
            "source": [
                "import pandas as pd\n",
                "df_spe = pd.read_csv('wiki_diff/wiki_diff_specialchars.csv', sep='\\t', index_col=0)\n",
                "df_spe['lost'][df_spe.lost.notnull()].sort_values(ascending=False)"
            ]
        },
        {
            "cell_type": "code",
            "execution_count": null,
            "metadata": {},
            "outputs": [],
            "source": [
                "df_spe"
            ]
        },
        {
            "cell_type": "code",
            "execution_count": 13,
            "metadata": {},
            "outputs": [
                {
                    "data": {
                        "text/plain": [
                            ".     471.0\n",
                            "\\n    205.0\n",
                            "-      13.0\n",
                            "✪      12.0\n",
                            ";      10.0\n",
                            "0       9.0\n",
                            "1       4.0\n",
                            "ô       0.0\n",
                            "(       0.0\n",
                            "[       0.0\n",
                            "/       0.0\n",
                            ")       0.0\n",
                            ",       0.0\n",
                            "'       0.0\n",
                            "Name: add, dtype: float64"
                        ]
                    },
                    "execution_count": 13,
                    "metadata": {},
                    "output_type": "execute_result"
                }
            ],
            "source": [
                "df_spe['add'][df_spe['add'].notnull()].sort_values(ascending=False)"
            ]
        },
        {
            "cell_type": "code",
            "execution_count": 21,
            "metadata": {},
            "outputs": [
                {
                    "data": {
                        "text/plain": [
                            "(':', '\\n')    286.0\n",
                            "(';', ' ')     123.0\n",
                            "(',', '.')      60.0\n",
                            "('-', '‒')      54.0\n",
                            "(\"'\", '\"')      17.0\n",
                            "(\"'\", '’')      11.0\n",
                            "(':', '.')       9.0\n",
                            "('-', '—')       9.0\n",
                            "('\\n', '.')      8.0\n",
                            "(':', '=')       5.0\n",
                            "(\"'\", '°')       5.0\n",
                            "('-', '−')       5.0\n",
                            "('<', 'K')       5.0\n",
                            "('\"', '“')       4.0\n",
                            "('.', '°')       4.0\n",
                            "('O', 'C')       3.0\n",
                            "('5', 'S')       3.0\n",
                            "('e', 'c')       3.0\n",
                            "('t', '+')       3.0\n",
                            "('\"', '°')       3.0\n",
                            "(':', '：')       2.0\n",
                            "('c', 'e')       2.0\n",
                            "('.', ',')       2.0\n",
                            "(')', '）')       2.0\n",
                            "('1', '\"')       2.0\n",
                            "('8', 'S')       2.0\n",
                            "('(', '（')       2.0\n",
                            "('O', '0')       2.0\n",
                            "('0', 'o')       2.0\n",
                            "('E', '£')       2.0\n",
                            "('9', 'o')       2.0\n",
                            "('(', 'K')       2.0\n",
                            "('T', 'I')       2.0\n",
                            "('I', '1')       2.0\n",
                            "('1', 'l')       2.0\n",
                            "('\"', '”')       1.0\n",
                            "('2', '²')       1.0\n",
                            "('/', '⁄')       1.0\n",
                            "('o', 'c')       1.0\n",
                            "('.', '\\n')      1.0\n",
                            "(':', 'g')       1.0\n",
                            "('d', 'o')       1.0\n",
                            "('3', '8')       1.0\n",
                            "('5', '동')       1.0\n",
                            "('7', '구')       1.0\n",
                            "(\"'\", '”')       1.0\n",
                            "('l', '1')       1.0\n",
                            "(':', '…')       1.0\n",
                            "('✪', '=')       1.0\n",
                            "('✪', '/')       1.0\n",
                            "('A', '^')       1.0\n",
                            "('\"', 'o')       1.0\n",
                            "('J', 'I')       1.0\n",
                            "(\"'\", 'ʻ')       1.0\n",
                            "('I', 'L')       1.0\n",
                            "('t', '\"')       1.0\n",
                            "('\"', \"'\")       1.0\n",
                            "('1', 'I')       1.0\n",
                            "Name: wrong, dtype: float64"
                        ]
                    },
                    "execution_count": 21,
                    "metadata": {},
                    "output_type": "execute_result"
                }
            ],
            "source": [
                "df_spe['wrong'][df_spe['wrong'].notnull()].sort_values(ascending=False)"
            ]
        },
        {
            "cell_type": "code",
            "execution_count": 2,
            "metadata": {},
            "outputs": [
                {
                    "data": {
                        "text/html": [
                            "<div>\n",
                            "<style scoped>\n",
                            "    .dataframe tbody tr th:only-of-type {\n",
                            "        vertical-align: middle;\n",
                            "    }\n",
                            "\n",
                            "    .dataframe tbody tr th {\n",
                            "        vertical-align: top;\n",
                            "    }\n",
                            "\n",
                            "    .dataframe thead th {\n",
                            "        text-align: right;\n",
                            "    }\n",
                            "</style>\n",
                            "<table border=\"1\" class=\"dataframe\">\n",
                            "  <thead>\n",
                            "    <tr style=\"text-align: right;\">\n",
                            "      <th></th>\n",
                            "      <th>file_name</th>\n",
                            "      <th>nlosts_specialchars</th>\n",
                            "    </tr>\n",
                            "  </thead>\n",
                            "  <tbody>\n",
                            "    <tr>\n",
                            "      <th>10</th>\n",
                            "      <td>wiki_diff/result/Seoul_vi_00004.txt</td>\n",
                            "      <td>5</td>\n",
                            "    </tr>\n",
                            "    <tr>\n",
                            "      <th>123</th>\n",
                            "      <td>wiki_diff/result/Korea_vi_00001.txt</td>\n",
                            "      <td>5</td>\n",
                            "    </tr>\n",
                            "    <tr>\n",
                            "      <th>115</th>\n",
                            "      <td>wiki_diff/result/Linux_vi_00016.txt</td>\n",
                            "      <td>5</td>\n",
                            "    </tr>\n",
                            "    <tr>\n",
                            "      <th>66</th>\n",
                            "      <td>wiki_diff/result/Google_vi_00015.txt</td>\n",
                            "      <td>1</td>\n",
                            "    </tr>\n",
                            "    <tr>\n",
                            "      <th>192</th>\n",
                            "      <td>wiki_diff/result/Seoul_vi_00002.txt</td>\n",
                            "      <td>11</td>\n",
                            "    </tr>\n",
                            "    <tr>\n",
                            "      <th>5</th>\n",
                            "      <td>wiki_diff/result/Python_(programming_language)...</td>\n",
                            "      <td>14</td>\n",
                            "    </tr>\n",
                            "    <tr>\n",
                            "      <th>35</th>\n",
                            "      <td>wiki_diff/result/Barack_Obama_vi_00002.txt</td>\n",
                            "      <td>4</td>\n",
                            "    </tr>\n",
                            "    <tr>\n",
                            "      <th>157</th>\n",
                            "      <td>wiki_diff/result/Python_(programming_language)...</td>\n",
                            "      <td>1</td>\n",
                            "    </tr>\n",
                            "    <tr>\n",
                            "      <th>25</th>\n",
                            "      <td>wiki_diff/result/K-pop_vi_00004.txt</td>\n",
                            "      <td>8</td>\n",
                            "    </tr>\n",
                            "    <tr>\n",
                            "      <th>187</th>\n",
                            "      <td>wiki_diff/result/Barack_Obama_vi_00001.txt</td>\n",
                            "      <td>5</td>\n",
                            "    </tr>\n",
                            "    <tr>\n",
                            "      <th>109</th>\n",
                            "      <td>wiki_diff/result/Computer_vi_00002.txt</td>\n",
                            "      <td>4</td>\n",
                            "    </tr>\n",
                            "    <tr>\n",
                            "      <th>33</th>\n",
                            "      <td>wiki_diff/result/Galaxy_vi_00003.txt</td>\n",
                            "      <td>8</td>\n",
                            "    </tr>\n",
                            "    <tr>\n",
                            "      <th>17</th>\n",
                            "      <td>wiki_diff/result/Google_vi_00016.txt</td>\n",
                            "      <td>0</td>\n",
                            "    </tr>\n",
                            "    <tr>\n",
                            "      <th>129</th>\n",
                            "      <td>wiki_diff/result/Korea_vi_00005.txt</td>\n",
                            "      <td>7</td>\n",
                            "    </tr>\n",
                            "    <tr>\n",
                            "      <th>131</th>\n",
                            "      <td>wiki_diff/result/Samsung_vi_00002.txt</td>\n",
                            "      <td>6</td>\n",
                            "    </tr>\n",
                            "    <tr>\n",
                            "      <th>68</th>\n",
                            "      <td>wiki_diff/result/Korea_vi_00006.txt</td>\n",
                            "      <td>3</td>\n",
                            "    </tr>\n",
                            "    <tr>\n",
                            "      <th>8</th>\n",
                            "      <td>wiki_diff/result/Seoul_vi_00011.txt</td>\n",
                            "      <td>4</td>\n",
                            "    </tr>\n",
                            "    <tr>\n",
                            "      <th>100</th>\n",
                            "      <td>wiki_diff/result/Seoul_vi_00005.txt</td>\n",
                            "      <td>3</td>\n",
                            "    </tr>\n",
                            "    <tr>\n",
                            "      <th>45</th>\n",
                            "      <td>wiki_diff/result/Python_(programming_language)...</td>\n",
                            "      <td>18</td>\n",
                            "    </tr>\n",
                            "    <tr>\n",
                            "      <th>63</th>\n",
                            "      <td>wiki_diff/result/Linux_vi_00017.txt</td>\n",
                            "      <td>4</td>\n",
                            "    </tr>\n",
                            "    <tr>\n",
                            "      <th>149</th>\n",
                            "      <td>wiki_diff/result/TV_vi_00015.txt</td>\n",
                            "      <td>3</td>\n",
                            "    </tr>\n",
                            "    <tr>\n",
                            "      <th>27</th>\n",
                            "      <td>wiki_diff/result/Barack_Obama_vi_00007.txt</td>\n",
                            "      <td>6</td>\n",
                            "    </tr>\n",
                            "    <tr>\n",
                            "      <th>52</th>\n",
                            "      <td>wiki_diff/result/Bank_vi_00006.txt</td>\n",
                            "      <td>3</td>\n",
                            "    </tr>\n",
                            "    <tr>\n",
                            "      <th>76</th>\n",
                            "      <td>wiki_diff/result/Barack_Obama_vi_00014.txt</td>\n",
                            "      <td>10</td>\n",
                            "    </tr>\n",
                            "    <tr>\n",
                            "      <th>183</th>\n",
                            "      <td>wiki_diff/result/Seoul_vi_00010.txt</td>\n",
                            "      <td>11</td>\n",
                            "    </tr>\n",
                            "    <tr>\n",
                            "      <th>87</th>\n",
                            "      <td>wiki_diff/result/Barack_Obama_vi_00005.txt</td>\n",
                            "      <td>6</td>\n",
                            "    </tr>\n",
                            "    <tr>\n",
                            "      <th>125</th>\n",
                            "      <td>wiki_diff/result/Galaxy_vi_00010.txt</td>\n",
                            "      <td>3</td>\n",
                            "    </tr>\n",
                            "    <tr>\n",
                            "      <th>163</th>\n",
                            "      <td>wiki_diff/result/Galaxy_vi_00004.txt</td>\n",
                            "      <td>3</td>\n",
                            "    </tr>\n",
                            "    <tr>\n",
                            "      <th>206</th>\n",
                            "      <td>wiki_diff/result/Seoul_vi_00001.txt</td>\n",
                            "      <td>7</td>\n",
                            "    </tr>\n",
                            "    <tr>\n",
                            "      <th>207</th>\n",
                            "      <td>wiki_diff/result/Galaxy_vi_00006.txt</td>\n",
                            "      <td>6</td>\n",
                            "    </tr>\n",
                            "  </tbody>\n",
                            "</table>\n",
                            "</div>"
                        ],
                        "text/plain": [
                            "                                             file_name  nlosts_specialchars\n",
                            "10                 wiki_diff/result/Seoul_vi_00004.txt                    5\n",
                            "123                wiki_diff/result/Korea_vi_00001.txt                    5\n",
                            "115                wiki_diff/result/Linux_vi_00016.txt                    5\n",
                            "66                wiki_diff/result/Google_vi_00015.txt                    1\n",
                            "192                wiki_diff/result/Seoul_vi_00002.txt                   11\n",
                            "5    wiki_diff/result/Python_(programming_language)...                   14\n",
                            "35          wiki_diff/result/Barack_Obama_vi_00002.txt                    4\n",
                            "157  wiki_diff/result/Python_(programming_language)...                    1\n",
                            "25                 wiki_diff/result/K-pop_vi_00004.txt                    8\n",
                            "187         wiki_diff/result/Barack_Obama_vi_00001.txt                    5\n",
                            "109             wiki_diff/result/Computer_vi_00002.txt                    4\n",
                            "33                wiki_diff/result/Galaxy_vi_00003.txt                    8\n",
                            "17                wiki_diff/result/Google_vi_00016.txt                    0\n",
                            "129                wiki_diff/result/Korea_vi_00005.txt                    7\n",
                            "131              wiki_diff/result/Samsung_vi_00002.txt                    6\n",
                            "68                 wiki_diff/result/Korea_vi_00006.txt                    3\n",
                            "8                  wiki_diff/result/Seoul_vi_00011.txt                    4\n",
                            "100                wiki_diff/result/Seoul_vi_00005.txt                    3\n",
                            "45   wiki_diff/result/Python_(programming_language)...                   18\n",
                            "63                 wiki_diff/result/Linux_vi_00017.txt                    4\n",
                            "149                   wiki_diff/result/TV_vi_00015.txt                    3\n",
                            "27          wiki_diff/result/Barack_Obama_vi_00007.txt                    6\n",
                            "52                  wiki_diff/result/Bank_vi_00006.txt                    3\n",
                            "76          wiki_diff/result/Barack_Obama_vi_00014.txt                   10\n",
                            "183                wiki_diff/result/Seoul_vi_00010.txt                   11\n",
                            "87          wiki_diff/result/Barack_Obama_vi_00005.txt                    6\n",
                            "125               wiki_diff/result/Galaxy_vi_00010.txt                    3\n",
                            "163               wiki_diff/result/Galaxy_vi_00004.txt                    3\n",
                            "206                wiki_diff/result/Seoul_vi_00001.txt                    7\n",
                            "207               wiki_diff/result/Galaxy_vi_00006.txt                    6"
                        ]
                    },
                    "execution_count": 2,
                    "metadata": {},
                    "output_type": "execute_result"
                }
            ],
            "source": [
                "df.nlargest(30 ,'nwrongs').loc[:, ['file_name', 'nlosts_specialchars']]\n",
                "#note korea_vi_00005\n",
                "#Python_vi_00005\n",
                "#TV_vi_00016"
            ]
        },
        {
            "cell_type": "code",
            "execution_count": 15,
            "metadata": {},
            "outputs": [],
            "source": [
                "import pandas as pd\n",
                "with open('wiki_diff/wrong_accent.txt', 'r') as f:\n",
                "    lines = f.read().splitlines() \n",
                "df_accent = pd.DataFrame(lines, columns=['wrong_accent'])"
            ]
        },
        {
            "cell_type": "code",
            "execution_count": 20,
            "metadata": {},
            "outputs": [
                {
                    "data": {
                        "text/plain": [
                            "wrong_accent\n",
                            "ằ -> ẳ          61\n",
                            "ể -> ế          39\n",
                            "ă -> ắ          19\n",
                            "ổ -> ố          17\n",
                            "ề -> ể          17\n",
                            "e -> é           8\n",
                            "ồ -> ổ           7\n",
                            "i -> í           7\n",
                            "ò -> ỏ           6\n",
                            "à -> ả           6\n",
                            "ề -> ê           6\n",
                            "ă -> ằ           5\n",
                            "ỗ -> ô           5\n",
                            "u -> ū           4\n",
                            "a -> â           4\n",
                            "o -> ö           4\n",
                            "o -> ō           4\n",
                            "ì -> ỉ           4\n",
                            "ầ -> ẩ           3\n",
                            "ê -> ề           3\n",
                            "A -> Ả           3\n",
                            "u -> ü           3\n",
                            "ệ -> ê           2\n",
                            "ă -> ẵ           2\n",
                            "E -> É           2\n",
                            "o -> ơ           2\n",
                            "ý -> ỷ           2\n",
                            "a -> à           1\n",
                            "a -> ā           1\n",
                            "a -> á           1\n",
                            "ỉ -> ĩ           1\n",
                            "ọ -> ợ           1\n",
                            "ổ -> ô           1\n",
                            "ế -> é           1\n",
                            "O -> Ố           1\n",
                            "O -> Ö           1\n",
                            "ờ -> ở           1\n",
                            "ở -> ỏ           1\n",
                            "ợ -> ọ           1\n",
                            "Ủ -> Ú           1\n",
                            "a -> α           1\n",
                            "e -> è           1\n",
                            "ẵ -> ă           1\n",
                            "u -> ư           1\n",
                            "ắ -> ă           1\n",
                            "e -> ê           1\n",
                            "o -> ó           1\n",
                            "o -> ô           1\n",
                            "ú -> ứ           1\n",
                            "ô -> ồ           1\n",
                            "ò -> ồ           1\n",
                            "o -> ǒ           1\n",
                            "ã -> ā           1\n",
                            "u -> µ           1\n",
                            "Ô -> Ố           1\n",
                            "y -> ỵ           1\n",
                            "ỳ -> ỷ           1\n",
                            "dtype: int64"
                        ]
                    },
                    "execution_count": 20,
                    "metadata": {},
                    "output_type": "execute_result"
                }
            ],
            "source": [
                "df_accent.value_counts()"
            ]
        },
        {
            "cell_type": "code",
            "execution_count": 21,
            "metadata": {},
            "outputs": [
                {
                    "data": {
                        "text/plain": [
                            "lost_accent\n",
                            "ỉ -> i         1\n",
                            "dtype: int64"
                        ]
                    },
                    "execution_count": 21,
                    "metadata": {},
                    "output_type": "execute_result"
                }
            ],
            "source": [
                "import pandas as pd\n",
                "with open('wiki_diff/lost_accent.txt', 'r') as f:\n",
                "    lines = f.read().splitlines() \n",
                "df_laccent = pd.DataFrame(lines, columns=['lost_accent'])\n",
                "df_laccent.value_counts()"
            ]
        },
        {
            "cell_type": "code",
            "execution_count": 13,
            "metadata": {},
            "outputs": [
                {
                    "data": {
                        "text/html": [
                            "<div>\n",
                            "<style scoped>\n",
                            "    .dataframe tbody tr th:only-of-type {\n",
                            "        vertical-align: middle;\n",
                            "    }\n",
                            "\n",
                            "    .dataframe tbody tr th {\n",
                            "        vertical-align: top;\n",
                            "    }\n",
                            "\n",
                            "    .dataframe thead th {\n",
                            "        text-align: right;\n",
                            "    }\n",
                            "</style>\n",
                            "<table border=\"1\" class=\"dataframe\">\n",
                            "  <thead>\n",
                            "    <tr style=\"text-align: right;\">\n",
                            "      <th></th>\n",
                            "      <th>before</th>\n",
                            "      <th>after</th>\n",
                            "    </tr>\n",
                            "  </thead>\n",
                            "  <tbody>\n",
                            "    <tr>\n",
                            "      <th>0</th>\n",
                            "      <td>ằ</td>\n",
                            "      <td>ẳ</td>\n",
                            "    </tr>\n",
                            "    <tr>\n",
                            "      <th>1</th>\n",
                            "      <td>A</td>\n",
                            "      <td>Ả</td>\n",
                            "    </tr>\n",
                            "    <tr>\n",
                            "      <th>2</th>\n",
                            "      <td>ă</td>\n",
                            "      <td>ắ</td>\n",
                            "    </tr>\n",
                            "    <tr>\n",
                            "      <th>3</th>\n",
                            "      <td>ể</td>\n",
                            "      <td>ế</td>\n",
                            "    </tr>\n",
                            "    <tr>\n",
                            "      <th>4</th>\n",
                            "      <td>ê</td>\n",
                            "      <td>ề</td>\n",
                            "    </tr>\n",
                            "    <tr>\n",
                            "      <th>...</th>\n",
                            "      <td>...</td>\n",
                            "      <td>...</td>\n",
                            "    </tr>\n",
                            "    <tr>\n",
                            "      <th>270</th>\n",
                            "      <td>i</td>\n",
                            "      <td>í</td>\n",
                            "    </tr>\n",
                            "    <tr>\n",
                            "      <th>271</th>\n",
                            "      <td>ì</td>\n",
                            "      <td>ỉ</td>\n",
                            "    </tr>\n",
                            "    <tr>\n",
                            "      <th>272</th>\n",
                            "      <td>o</td>\n",
                            "      <td>ö</td>\n",
                            "    </tr>\n",
                            "    <tr>\n",
                            "      <th>273</th>\n",
                            "      <td>u</td>\n",
                            "      <td>ü</td>\n",
                            "    </tr>\n",
                            "    <tr>\n",
                            "      <th>274</th>\n",
                            "      <td>ề</td>\n",
                            "      <td>ể</td>\n",
                            "    </tr>\n",
                            "  </tbody>\n",
                            "</table>\n",
                            "<p>275 rows × 2 columns</p>\n",
                            "</div>"
                        ],
                        "text/plain": [
                            "    before after\n",
                            "0        ằ     ẳ\n",
                            "1        A     Ả\n",
                            "2        ă     ắ\n",
                            "3        ể     ế\n",
                            "4        ê     ề\n",
                            "..     ...   ...\n",
                            "270      i     í\n",
                            "271      ì     ỉ\n",
                            "272      o     ö\n",
                            "273      u     ü\n",
                            "274      ề     ể\n",
                            "\n",
                            "[275 rows x 2 columns]"
                        ]
                    },
                    "execution_count": 13,
                    "metadata": {},
                    "output_type": "execute_result"
                }
            ],
            "source": [
                "\n",
                "df_accent = df_accent.wrong_accent.str.split(' -> ', 1, expand=True)\n",
                "df_accent.rename(columns = { 0: 'before', 1: 'after' }, inplace=True)\n",
                "df_accent"
            ]
        },
        {
            "cell_type": "code",
            "execution_count": 14,
            "metadata": {},
            "outputs": [
                {
                    "data": {
                        "text/plain": [
                            "ằ    61\n",
                            "ể    39\n",
                            "ă    26\n",
                            "ề    23\n",
                            "ổ    18\n",
                            "o    13\n",
                            "e    10\n",
                            "u     9\n",
                            "a     8\n",
                            "ò     7\n",
                            "i     7\n",
                            "ồ     7\n",
                            "à     6\n",
                            "ỗ     5\n",
                            "ì     4\n",
                            "A     3\n",
                            "ầ     3\n",
                            "ê     3\n",
                            "ệ     2\n",
                            "ý     2\n",
                            "O     2\n",
                            "E     2\n",
                            "ô     1\n",
                            "ỉ     1\n",
                            "ợ     1\n",
                            "ế     1\n",
                            "ờ     1\n",
                            "ã     1\n",
                            "ẵ     1\n",
                            "ắ     1\n",
                            "ở     1\n",
                            "ỳ     1\n",
                            "ú     1\n",
                            "Ô     1\n",
                            "y     1\n",
                            "ọ     1\n",
                            "Ủ     1\n",
                            "Name: before, dtype: int64"
                        ]
                    },
                    "execution_count": 14,
                    "metadata": {},
                    "output_type": "execute_result"
                }
            ],
            "source": [
                "df_accent.before.value_counts()"
            ]
        },
        {
            "cell_type": "code",
            "execution_count": 73,
            "metadata": {},
            "outputs": [
                {
                    "data": {
                        "text/plain": [
                            "array(['Ả', 'Á', 'Ấ'], dtype=object)"
                        ]
                    },
                    "execution_count": 73,
                    "metadata": {},
                    "output_type": "execute_result"
                }
            ],
            "source": [
                "chars = ['a', 'á', 'à', 'ả', 'ã', 'ạ', 'â', 'ấ', 'ầ', 'ẩ', 'ẫ', 'ậ', 'ă', 'ắ', 'ằ', 'ẳ', 'ẵ', 'ặ']  # add â, ă\n",
                "chars = [char.upper() for char in chars]\n",
                "before = df_accent[df_accent.before.isin(chars)].after.unique()\n",
                "before"
            ]
        },
        {
            "cell_type": "code",
            "execution_count": 74,
            "metadata": {},
            "outputs": [
                {
                    "data": {
                        "text/plain": [
                            "array(['A', 'Ẩ'], dtype=object)"
                        ]
                    },
                    "execution_count": 74,
                    "metadata": {},
                    "output_type": "execute_result"
                }
            ],
            "source": [
                "after = df_accent[df_accent.after.isin(chars)].before.unique()\n",
                "after"
            ]
        },
        {
            "cell_type": "code",
            "execution_count": 75,
            "metadata": {},
            "outputs": [
                {
                    "name": "stdout",
                    "output_type": "stream",
                    "text": [
                        "{'Ấ', 'Ẩ', 'A', 'Á', 'Ả'}\n"
                    ]
                }
            ],
            "source": [
                "print(set(list(before)+list(after)))"
            ]
        },
        {
            "cell_type": "code",
            "execution_count": 80,
            "metadata": {},
            "outputs": [
                {
                    "data": {
                        "text/plain": [
                            "'ầìỵềàếÌAấèểĨỊĩáảẢeéẤaẩởEÉyửíÍýổằẳỡỈỉắỹơāỷõứUòỳưêọỦiăẨÚịễÁợệạỏồuIâẵôoūốỗ'"
                        ]
                    },
                    "execution_count": 80,
                    "metadata": {},
                    "output_type": "execute_result"
                }
            ],
            "source": [
                "same_chars = {\n",
                "    'a': ['ầ', 'a', 'ă', 'ắ', 'ẩ', 'à', 'ấ', 'â', 'ā', 'ạ', 'ằ', 'ẳ', 'á', 'ả', 'ẵ'],  # add â, ă\n",
                "    'A': ['Ấ', 'Ẩ', 'Á', 'Ả'],\n",
                "    'o': ['ở', 'ổ', 'ỡ', 'ơ', 'õ', 'ò', 'ọ', 'ợ', 'ỏ', 'ồ', 'ô', 'o', 'ố', 'ỗ'],\n",
                "    'e': ['è', 'é', 'ê', 'ế', 'ề', 'ể', 'ễ', 'ệ'],\n",
                "    'E': ['É'],\n",
                "    'u': ['ū', 'ứ', 'ư', 'ử'],\n",
                "    'U': ['Ú', 'Ủ'],\n",
                "    'i': ['í', 'ì', 'ỉ', 'ĩ', 'ị'],\n",
                "    'I': ['Í', 'Ì', 'Ỉ', 'Ĩ', 'Ị'],\n",
                "    'y': ['ý', 'ỳ', 'ỷ', 'ỹ', 'ỵ'],\n",
                "}\n",
                "''.join(set(sum(same_chars.values(), []) + list(same_chars.keys())))"
            ]
        },
        {
            "cell_type": "code",
            "execution_count": null,
            "metadata": {},
            "outputs": [],
            "source": []
        },
        {
            "cell_type": "code",
            "execution_count": 1,
            "metadata": {},
            "outputs": [],
            "source": [
                "from dataloader.dataset import BasicDataset, Collator, ClusterRandomSampler\n",
                "data = BasicDataset('dataloader/data/train_lmdb')\n"
            ]
        },
        {
            "cell_type": "code",
            "execution_count": 2,
            "metadata": {},
            "outputs": [
                {
                    "name": "stdout",
                    "output_type": "stream",
                    "text": [
                        "củẳ hơn của hơn\n",
                        "mạng lưới đửờng bộ quá mạng lưới đường bộ quá\n",
                        "phục vụ phục vụ\n",
                        "bà Thủy gửi đỗn tố bà Thủy gửi đơn tố\n",
                        "Tỉnh Nghể An thuộc vùng Tỉnh Nghệ An thuộc vùng\n",
                        "làm tăng nguỹ cơ chậm làm tăng nguy cơ chậm\n",
                        "Việt Nam Cộng hòa chí Việt Nam Cộng hòa chỉ\n",
                        "cáo đến UBND P cáo đến UBND P\n",
                        "Bắc Trứng Bộ Bắc Trung Bộ\n",
                        "trệ và sự cố trễ và sự cố\n",
                        "là cổng cụ thực hiện là công cụ thực hiện\n",
                        "HCM làm rồ vụ việc HCM làm rõ vụ việc\n",
                        "có vị trí địâ lý có vị trí địa lý\n",
                        "Ozảrba olimcorniculans Ozarba olimcorniculans\n",
                        "vịệc phê chuẩn việc phê chuẩn\n",
                        "Trong hệ thống phâp luật Trong hệ thống pháp luật\n",
                        "Ngăy 26 Ngày 26\n",
                        "Độĩ bóng nhận nhiều thẻ Đội bóng nhận nhiều thẻ\n",
                        "nếu khồng phải là thường nếu không phải là thường\n",
                        "của nhiều qửốc gia của nhiều quốc gia\n",
                        "UBND phường đã tỗ chức UBND phường đã tổ chức\n",
                        "văng nhất là FLC Thanh vàng nhất là FLC Thanh\n",
                        "bị loại ra khỏị sự bị loại ra khỏi sự\n",
                        "có một độ tuỗi trưởng có một độ tuổi trưởng\n",
                        "ra quần thực hiện văn ra quân thực hiện văn\n",
                        "54 chiểc 54 chiếc\n",
                        "chỉ đạo củẵ Mỹ chỉ đạo của Mỹ\n",
                        "thành khi tuối thơ kết thành khi tuổi thơ kết\n",
                        "minh đố thị theo kế minh đô thị theo kế\n",
                        "và 2 thẻ đợ và 2 thẻ đỏ\n",
                        "Việt Nam Cộng hòa hiểm Việt Nam Cộng hòa hiếm\n",
                        "thúc hôp pháp và một thúc hợp pháp và một\n",
                        "Nhận đưởc tin báo Nhận được tin báo\n",
                        "Nước Cộng hòà Venezia từng Nước Cộng hòa Venezia từng\n",
                        "khi đưa ra chính sắch khi đưa ra chính sách\n",
                        "người trở thành người lớn người trở thành người lớn\n",
                        "Cổng an huyện Gia Viễn Công an huyện Gia Viễn\n",
                        "lâ một đế quốc hàng là một đế quốc hàng\n",
                        "họ thậm chí còn khồng họ thậm chí còn không\n",
                        "hợp phằp hợp pháp\n",
                        "đã có mặt khẵm nghiệm đã có mặt khám nghiệm\n",
                        "hăi và một khu vực hải và một khu vực\n",
                        "được tham khảo ỷ kiến được tham khảo ý kiến\n",
                        "với mức tuối dao động với mức tuổi dao động\n",
                        "đồng thời xảc minh người đồng thời xác minh người\n",
                        "chuẩn bị cho các cửộc chuẩn bị cho các cuộc\n",
                        "về quyết định của Mỷ về quyết định của Mỹ\n",
                        "từ 15 đển 21 từ 15 đến 21\n",
                        "lái chiếc xe này lá lái chiếc xe này là\n",
                        "Thập tự chính Thập tự chinh\n"
                    ]
                }
            ],
            "source": [
                "from src.ocr_corrector.vocab import Vocab\n",
                "from config import alphabet\n",
                "vocab = Vocab(alphabet)\n",
                "for i in range(50):\n",
                "    # print(vocab.decode(data[i]['text']), vocab.decode(data[i]['label']))\n",
                "    print(vocab.decode(data[i]['text']), vocab.decode(data[i]['label']))\n",
                "    # pass\n",
                "# print(vocab.decode(data[49]['text']), vocab.decode(data[49]['label']))\n",
                "\n",
                "# vocab.decode(data[0]['label'])"
            ]
        },
        {
            "cell_type": "code",
            "execution_count": null,
            "metadata": {},
            "outputs": [],
            "source": [
                "text = 'Tôi có CƠ sở để khẳng định điều đó.'\n",
                "from config import common_randomcase\n",
                "from difflib import SequenceMatcher\n",
                "s = SequenceMatcher(None, text, common_randomcase)\n",
                "s.get_matching_block()"
            ]
        },
        {
            "cell_type": "code",
            "execution_count": null,
            "metadata": {},
            "outputs": [],
            "source": [
                "combined = \"(\" + \")|(\".join(regexes) + \")\"\n"
            ]
        },
        {
            "cell_type": "code",
            "execution_count": null,
            "metadata": {},
            "outputs": [],
            "source": [
                "paragraph = 'tích (Tquang điện tử) trong các ông trong suốt mỗi chu kỳ quét. Thiết bị này được mở tả lần đầu tiên 1872346 mrlasdt@gmail.com www.facebook.com (bla bla_bla -> tôi)'\n",
                "re.findall(r'\\w[\\w ]*|\\s\\W+|\\W+', paragraph)"
            ]
        }
    ],
    "metadata": {
        "interpreter": {
            "hash": "31f2aee4e71d21fbe5cf8b01ff0e069b9275f58929596ceb00d14d90e3e16cd6"
        },
        "kernelspec": {
            "display_name": "Python 3.8.10 64-bit",
            "language": "python",
            "name": "python3"
        },
        "language_info": {
            "codemirror_mode": {
                "name": "ipython",
                "version": 3
            },
            "file_extension": ".py",
            "mimetype": "text/x-python",
            "name": "python",
            "nbconvert_exporter": "python",
            "pygments_lexer": "ipython3",
            "version": "3.8.10 (default, Nov 14 2022, 12:59:47) \n[GCC 9.4.0]"
        },
        "orig_nbformat": 4
    },
    "nbformat": 4,
    "nbformat_minor": 2
}
